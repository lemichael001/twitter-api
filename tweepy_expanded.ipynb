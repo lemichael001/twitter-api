{
 "cells": [
  {
   "cell_type": "code",
   "execution_count": 11,
   "metadata": {},
   "outputs": [],
   "source": [
    "import sys\n",
    "import csv\n",
    "import tweepy\n",
    "import pandas as pd\n",
    "\n",
    "#Get your Twitter API credentials and enter them here\n",
    "consumer_key = ''\n",
    "consumer_secret = ''\n",
    "access_key = ''\n",
    "access_secret = ''"
   ]
  },
  {
   "cell_type": "code",
   "execution_count": 12,
   "metadata": {},
   "outputs": [],
   "source": [
    "#method to get a user's last tweets\n",
    "def get_tweets(username):\n",
    "\n",
    "\t#http://tweepy.readthedocs.org/en/v3.1.0/getting_started.html#api\n",
    "\tauth = tweepy.OAuthHandler(consumer_key, consumer_secret)\n",
    "\tauth.set_access_token(access_key, access_secret)\n",
    "\tapi = tweepy.API(auth)\n",
    "\n",
    "\t#set count to however many tweets you want\n",
    "\tnumber_of_tweets = 100\n",
    "\n",
    "\t#get tweets\n",
    "\ttweets_for_csv = []\n",
    "\tfor tweet in tweepy.Cursor(api.user_timeline, screen_name = username).items(number_of_tweets):\n",
    "        #create array of tweet information: username, tweet id, date/time, text\n",
    "\t\ttweets_for_csv.append([username, tweet.id_str, tweet.created_at, tweet.text.encode(\"utf-8\")])\n",
    "\n",
    "\t#write to a new csv file from the array of tweets\n",
    "\toutfile = username + \"_tweets.csv\"\n",
    "\tprint(\"writing to \" + outfile)\n",
    "\twith open(outfile, 'w+') as file:\n",
    "\t\twriter = csv.writer(file, delimiter=',')\n",
    "\t\twriter.writerows(tweets_for_csv)"
   ]
  },
  {
   "cell_type": "code",
   "execution_count": 13,
   "metadata": {},
   "outputs": [
    {
     "name": "stdout",
     "output_type": "stream",
     "text": [
      "writing to lemichael01_tweets.csv\n"
     ]
    }
   ],
   "source": [
    "get_tweets(\"lemichael01\")"
   ]
  }
 ],
 "metadata": {
  "kernelspec": {
   "display_name": "Python 3",
   "language": "python",
   "name": "python3"
  },
  "language_info": {
   "codemirror_mode": {
    "name": "ipython",
    "version": 3
   },
   "file_extension": ".py",
   "mimetype": "text/x-python",
   "name": "python",
   "nbconvert_exporter": "python",
   "pygments_lexer": "ipython3",
   "version": "3.6.4"
  }
 },
 "nbformat": 4,
 "nbformat_minor": 2
}
